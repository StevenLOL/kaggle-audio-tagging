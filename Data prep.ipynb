{
 "cells": [
  {
   "cell_type": "markdown",
   "metadata": {},
   "source": [
    "Importing the libraries"
   ]
  },
  {
   "cell_type": "code",
   "execution_count": 1,
   "metadata": {},
   "outputs": [],
   "source": [
    "import os\n",
    "import shutil\n",
    "import numpy as np\n",
    "import pandas as pd\n",
    "#import matplotlib.pyplot as plt\n",
    "#from pylab import*\n",
    "#from scipy.io import wavfile\n",
    "#from matplotlib.pyplot import specgram\n",
    "#%matplotlib inline"
   ]
  },
  {
   "cell_type": "markdown",
   "metadata": {},
   "source": [
    "Identifying the unique sound labels"
   ]
  },
  {
   "cell_type": "code",
   "execution_count": 2,
   "metadata": {},
   "outputs": [],
   "source": [
    "dataset = pd.read_csv('train.csv')\n",
    "label_list = dataset.iloc[:,1:2].values\n",
    "unique_label_list = []\n",
    "for label in label_list:\n",
    "    if label not in unique_label_list:\n",
    "        unique_label_list.append(label) # A nested list is created here\n",
    "                                        # following lines of codes will make it a 1-d array\n",
    "\n",
    "unique_labels = []\n",
    "for label_array in unique_label_list:\n",
    "    for value in label_array:\n",
    "        unique_labels.append(value)    # This is a 1-d array with unique label values"
   ]
  },
  {
   "cell_type": "markdown",
   "metadata": {},
   "source": [
    "Creating folders named with audio labels"
   ]
  },
  {
   "cell_type": "code",
   "execution_count": 3,
   "metadata": {},
   "outputs": [],
   "source": [
    "for label in unique_labels:\n",
    "    path = os.path.join(\"audio_train_classified\", label)\n",
    "    os.makedirs(path)              # creates folders with the names of the folder inside the directory \"audio_train_classified\"\n",
    "    path_verified = os.path.join(\"audio_train_classified_verified\", label)\n",
    "    os.makedirs(path_verified)     # creates folders with the names of the folder inside the directory \"audio_train_classified_verified\""
   ]
  },
  {
   "cell_type": "markdown",
   "metadata": {},
   "source": [
    "verified the folders created  \n",
    "folder_list = os.listdir(\"audio_train_classified\")  \n",
    "folder_list[:5]"
   ]
  },
  {
   "cell_type": "markdown",
   "metadata": {},
   "source": [
    "The below codes will copy the sound files to labelled folders. We can use shutil.move to move the audio files instead of copying"
   ]
  },
  {
   "cell_type": "code",
   "execution_count": 4,
   "metadata": {},
   "outputs": [],
   "source": [
    "sound_list = os.listdir('audio_train')\n",
    "for sound_file in sound_list:\n",
    "    match_row = dataset[dataset['fname'].str.match(sound_file)]\n",
    "    match_list = match_row.values.tolist()\n",
    "    match_list = np.array(match_list)\n",
    "    \n",
    "    folder_path = os.path.join('audio_train_classified',match_list[0,1])\n",
    "    folder_path_verified = os.path.join('audio_train_classified_verified', match_list[0,1])\n",
    "    sound_file_path = os.path.join('audio_train', sound_file)\n",
    "    shutil.copy(sound_file_path, folder_path)        # Copies the sound file to the labelled folder in audio_train_classified dir\n",
    "    if match_list[0,2] == '1':\n",
    "        shutil.copy(sound_file_path, folder_path_verified)    # Copies the audio file to the folder only if its manually verified"
   ]
  }
 ],
 "metadata": {
  "kernelspec": {
   "display_name": "Python 3",
   "language": "python",
   "name": "python3"
  },
  "language_info": {
   "codemirror_mode": {
    "name": "ipython",
    "version": 3
   },
   "file_extension": ".py",
   "mimetype": "text/x-python",
   "name": "python",
   "nbconvert_exporter": "python",
   "pygments_lexer": "ipython3",
   "version": "3.6.4"
  }
 },
 "nbformat": 4,
 "nbformat_minor": 2
}
