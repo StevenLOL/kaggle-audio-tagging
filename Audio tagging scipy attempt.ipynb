{
 "cells": [
  {
   "cell_type": "markdown",
   "metadata": {},
   "source": [
    "Visualizing a single wave file using SciPy\n",
    "\n",
    "Importing the necessary libraries"
   ]
  },
  {
   "cell_type": "code",
   "execution_count": 1,
   "metadata": {},
   "outputs": [],
   "source": [
    "#import glob\n",
    "import os\n",
    "import numpy as np\n",
    "import matplotlib.pyplot as plt\n",
    "from pylab import*\n",
    "from scipy.io import wavfile\n",
    "from matplotlib.pyplot import specgram\n",
    "%matplotlib inline"
   ]
  },
  {
   "cell_type": "markdown",
   "metadata": {},
   "source": [
    "Reading the wave file from directory"
   ]
  },
  {
   "cell_type": "code",
   "execution_count": 2,
   "metadata": {},
   "outputs": [],
   "source": [
    "sound_file_paths_relative = os.listdir(\"audio_train\")\n",
    "i = 0\n",
    "sound_file_paths = []\n",
    "for sound_fil in sound_file_paths_relative:\n",
    "    sound_file_paths.append(os.path.join(\"audio_train\", sound_fil))\n",
    "    i = i+1\n",
    "#sound_file_paths[:2]"
   ]
  },
  {
   "cell_type": "markdown",
   "metadata": {},
   "source": [
    "Reading the sound file using scipy.io.wavefile class"
   ]
  },
  {
   "cell_type": "code",
   "execution_count": 3,
   "metadata": {},
   "outputs": [],
   "source": [
    "#sound_files_list = os.listdir(\"audio_train\")\n",
    "sampFreq, snd = wavfile.read(sound_file_paths[0])\n",
    "snd = snd / (2.**15)"
   ]
  },
  {
   "cell_type": "markdown",
   "metadata": {},
   "source": [
    "Plotting the tone of the sound file using matplotlib"
   ]
  },
  {
   "cell_type": "code",
   "execution_count": 4,
   "metadata": {},
   "outputs": [
    {
     "data": {
      "text/plain": [
       "Text(0.5,0,'Time (ms)')"
      ]
     },
     "execution_count": 4,
     "metadata": {},
     "output_type": "execute_result"
    },
    {
     "data": {
      "image/png": "[encoded data removed]",
      "text/plain": [
       "<matplotlib.figure.Figure at 0x248e8a868d0>"
      ]
     },
     "metadata": {},
     "output_type": "display_data"
    }
   ],
   "source": [
    "# Plotting the tone\n",
    "timeArray = np.arange(0, 617400,1)\n",
    "timeArray = timeArray/sampFreq\n",
    "timeArray = timeArray * 1000 #scale to milli seconds\n",
    "\n",
    "#plotting the tone\n",
    "plot(timeArray, snd, color = 'r')\n",
    "ylabel('Amplitude')\n",
    "xlabel('Time (ms)')"
   ]
  },
  {
   "cell_type": "markdown",
   "metadata": {},
   "source": [
    "Plotting the frequency of the sound using matplotlib\n",
    "Used fft algorithm to convert time to frequency\n",
    "Referred the following link: http://samcarcagno.altervista.org/blog/basic-sound-processing-python/?doing_wp_cron=1529433045.4720048904418945312500"
   ]
  },
  {
   "cell_type": "code",
   "execution_count": 16,
   "metadata": {},
   "outputs": [
    {
     "data": {
      "text/plain": [
       "Text(0,0.5,'Power (dB)')"
      ]
     },
     "execution_count": 16,
     "metadata": {},
     "output_type": "execute_result"
    },
    {
     "data": {
      "image/png": "[encoded data removed]",
      "text/plain": [
       "<matplotlib.figure.Figure at 0x1d274a17a90>"
      ]
     },
     "metadata": {},
     "output_type": "display_data"
    }
   ],
   "source": [
    "# Plotting the frequency content\n",
    "n = len(snd)\n",
    "p = fft(snd) #takes the fast fourier transform\n",
    "nUniquePts = int(ceil((n+1)/2.0))\n",
    "p = p[0:nUniquePts]\n",
    "p = abs(p)\n",
    "\n",
    "p = p / float(n) # scale by the number of points so that\n",
    "                 # the magnitude does not depend on the length \n",
    "                 # of the signal or on its sampling frequency  \n",
    "p = p**2  # square it to get the power \n",
    "\n",
    "# multiply by two\n",
    "# odd nfft excludes Nyquist point\n",
    "if n % 2 > 0: # we've got odd number of points fft\n",
    "    p[1:len(p)] = p[1:len(p)] * 2\n",
    "else:\n",
    "    p[1:len(p) -1] = p[1:len(p) - 1] * 2 # we've got even number of points fft\n",
    "\n",
    "freqArray = arange(0, nUniquePts, 1.0) * (sampFreq / n);\n",
    "plot(freqArray/1000, 10*log10(p), color='r')\n",
    "xlabel('Frequency (kHz)')\n",
    "ylabel('Power (dB)')"
   ]
  },
  {
   "cell_type": "code",
   "execution_count": null,
   "metadata": {},
   "outputs": [],
   "source": []
  }
 ],
 "metadata": {
  "kernelspec": {
   "display_name": "Python 3",
   "language": "python",
   "name": "python3"
  },
  "language_info": {
   "codemirror_mode": {
    "name": "ipython",
    "version": 3
   },
   "file_extension": ".py",
   "mimetype": "text/x-python",
   "name": "python",
   "nbconvert_exporter": "python",
   "pygments_lexer": "ipython3",
   "version": "3.6.3"
  }
 },
 "nbformat": 4,
 "nbformat_minor": 2
}
