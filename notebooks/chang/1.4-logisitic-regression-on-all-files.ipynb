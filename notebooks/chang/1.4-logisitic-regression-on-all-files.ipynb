{
 "cells": [
  {
   "cell_type": "code",
   "execution_count": 27,
   "metadata": {},
   "outputs": [],
   "source": [
    "import helpers\n",
    "import pandas as pd\n",
    "import pickle\n",
    "import numpy as np\n",
    "import math\n",
    "import librosa.feature as lf"
   ]
  },
  {
   "cell_type": "code",
   "execution_count": 2,
   "metadata": {},
   "outputs": [],
   "source": [
    "TRAIN_CSV = 'data/external/train.csv'\n",
    "TRAIN_FILES = 'data/external/audio_train'"
   ]
  },
  {
   "cell_type": "code",
   "execution_count": 3,
   "metadata": {},
   "outputs": [],
   "source": [
    "tags = list(pd.read_csv(TRAIN_CSV).label.unique())"
   ]
  },
  {
   "cell_type": "markdown",
   "metadata": {},
   "source": [
    "Load each label and process into 1 second clips separately"
   ]
  },
  {
   "cell_type": "code",
   "execution_count": 7,
   "metadata": {},
   "outputs": [
    {
     "name": "stdout",
     "output_type": "stream",
     "text": [
      "Processed 0-Hi-hat\n",
      "Processed 1-Saxophone\n",
      "Processed 2-Trumpet\n",
      "Processed 3-Glockenspiel\n",
      "Processed 4-Cello\n",
      "Processed 5-Knock\n",
      "Processed 6-Gunshot_or_gunfire\n",
      "Processed 7-Clarinet\n",
      "Processed 8-Computer_keyboard\n",
      "Processed 9-Keys_jangling\n",
      "Processed 10-Snare_drum\n",
      "Processed 11-Writing\n",
      "Processed 12-Laughter\n",
      "Processed 13-Tearing\n",
      "Processed 14-Fart\n",
      "Processed 15-Oboe\n",
      "Processed 16-Flute\n",
      "Processed 17-Cough\n",
      "Processed 18-Telephone\n",
      "Processed 19-Bark\n",
      "Processed 20-Chime\n",
      "Processed 21-Bass_drum\n",
      "Processed 22-Bus\n",
      "Processed 23-Squeak\n",
      "Processed 24-Scissors\n",
      "Processed 25-Harmonica\n",
      "Processed 26-Gong\n",
      "Processed 27-Microwave_oven\n",
      "Processed 28-Burping_or_eructation\n",
      "Processed 29-Double_bass\n",
      "Processed 30-Shatter\n",
      "Processed 31-Fireworks\n",
      "Processed 32-Tambourine\n",
      "Processed 33-Cowbell\n",
      "Processed 34-Electric_piano\n",
      "Processed 35-Meow\n",
      "Processed 36-Drawer_open_or_close\n"
     ]
    },
    {
     "ename": "MemoryError",
     "evalue": "",
     "output_type": "error",
     "traceback": [
      "\u001b[1;31m---------------------------------------------------------------------------\u001b[0m",
      "\u001b[1;31mMemoryError\u001b[0m                               Traceback (most recent call last)",
      "\u001b[1;32m<ipython-input-7-f74447e0ee90>\u001b[0m in \u001b[0;36m<module>\u001b[1;34m()\u001b[0m\n\u001b[0;32m      3\u001b[0m     \u001b[0mwav_data\u001b[0m \u001b[1;33m=\u001b[0m \u001b[0mhelpers\u001b[0m\u001b[1;33m.\u001b[0m\u001b[0mload_wav_files\u001b[0m\u001b[1;33m(\u001b[0m\u001b[0mtrain_files\u001b[0m\u001b[1;33m,\u001b[0m \u001b[0mduration\u001b[0m\u001b[1;33m=\u001b[0m\u001b[1;36m15\u001b[0m\u001b[1;33m)\u001b[0m\u001b[1;33m\u001b[0m\u001b[0m\n\u001b[0;32m      4\u001b[0m     \u001b[1;32mwith\u001b[0m \u001b[0mopen\u001b[0m\u001b[1;33m(\u001b[0m\u001b[1;34m'data/raw/train/wav-data-{}.pkl'\u001b[0m\u001b[1;33m.\u001b[0m\u001b[0mformat\u001b[0m\u001b[1;33m(\u001b[0m\u001b[0mtag_name\u001b[0m\u001b[1;33m)\u001b[0m\u001b[1;33m,\u001b[0m \u001b[1;34m'wb'\u001b[0m\u001b[1;33m)\u001b[0m \u001b[1;32mas\u001b[0m \u001b[0mf\u001b[0m\u001b[1;33m:\u001b[0m\u001b[1;33m\u001b[0m\u001b[0m\n\u001b[1;32m----> 5\u001b[1;33m         \u001b[0mpickle\u001b[0m\u001b[1;33m.\u001b[0m\u001b[0mdump\u001b[0m\u001b[1;33m(\u001b[0m\u001b[0mwav_data\u001b[0m\u001b[1;33m,\u001b[0m \u001b[0mf\u001b[0m\u001b[1;33m)\u001b[0m\u001b[1;33m\u001b[0m\u001b[0m\n\u001b[0m\u001b[0;32m      6\u001b[0m     \u001b[0mprint\u001b[0m\u001b[1;33m(\u001b[0m\u001b[1;34m'Processed {}-{}'\u001b[0m\u001b[1;33m.\u001b[0m\u001b[0mformat\u001b[0m\u001b[1;33m(\u001b[0m\u001b[0mtag_num\u001b[0m\u001b[1;33m,\u001b[0m \u001b[0mtag_name\u001b[0m\u001b[1;33m)\u001b[0m\u001b[1;33m)\u001b[0m\u001b[1;33m\u001b[0m\u001b[0m\n",
      "\u001b[1;31mMemoryError\u001b[0m: "
     ]
    }
   ],
   "source": [
    "for tag_num, tag_name in enumerate(tags):\n",
    "    train_files = helpers.find_paths_with_tags(csv_path=TRAIN_CSV, files_path=TRAIN_FILES, filters=[tag_name])\n",
    "    wav_data = helpers.load_wav_files(train_files, duration=15)\n",
    "    with open('data/raw/train/wav-data-{}.pkl'.format(tag_name), 'wb') as f:\n",
    "        pickle.dump(wav_data, f)\n",
    "    print('Processed {}-{}'.format(tag_num, tag_name))"
   ]
  },
  {
   "cell_type": "code",
   "execution_count": 4,
   "metadata": {},
   "outputs": [
    {
     "name": "stdout",
     "output_type": "stream",
     "text": [
      "Processed 0-Applause\n",
      "Processed 1-Acoustic_guitar\n",
      "Processed 2-Violin_or_fiddle\n",
      "Processed 3-Finger_snapping\n"
     ]
    }
   ],
   "source": [
    "for tag_num, tag_name in enumerate(tags[37:]):\n",
    "    train_files = helpers.find_paths_with_tags(csv_path=TRAIN_CSV, files_path=TRAIN_FILES, filters=[tag_name])\n",
    "    wav_data = helpers.load_wav_files(train_files, duration=15)\n",
    "    with open('data/raw/train/wav-data-{}.pkl'.format(tag_name), 'wb') as f:\n",
    "        pickle.dump(wav_data, f)\n",
    "    print('Processed {}-{}'.format(tag_num, tag_name))"
   ]
  },
  {
   "cell_type": "markdown",
   "metadata": {},
   "source": [
    "#### 1 second versions"
   ]
  },
  {
   "cell_type": "code",
   "execution_count": 18,
   "metadata": {},
   "outputs": [
    {
     "name": "stdout",
     "output_type": "stream",
     "text": [
      "Processed 0-Hi-hat\n",
      "Processed 1-Saxophone\n",
      "Processed 2-Trumpet\n",
      "Processed 3-Glockenspiel\n",
      "Processed 4-Cello\n",
      "Processed 5-Knock\n",
      "Processed 6-Gunshot_or_gunfire\n",
      "Processed 7-Clarinet\n",
      "Processed 8-Computer_keyboard\n",
      "Processed 9-Keys_jangling\n",
      "Processed 10-Snare_drum\n",
      "Processed 11-Writing\n",
      "Processed 12-Laughter\n",
      "Processed 13-Tearing\n",
      "Processed 14-Fart\n",
      "Processed 15-Oboe\n",
      "Processed 16-Flute\n",
      "Processed 17-Cough\n",
      "Processed 18-Telephone\n",
      "Processed 19-Bark\n",
      "Processed 20-Chime\n",
      "Processed 21-Bass_drum\n",
      "Processed 22-Bus\n",
      "Processed 23-Squeak\n",
      "Processed 24-Scissors\n",
      "Processed 25-Harmonica\n",
      "Processed 26-Gong\n",
      "Processed 27-Microwave_oven\n",
      "Processed 28-Burping_or_eructation\n",
      "Processed 29-Double_bass\n",
      "Processed 30-Shatter\n",
      "Processed 31-Fireworks\n",
      "Processed 32-Tambourine\n",
      "Processed 33-Cowbell\n",
      "Processed 34-Electric_piano\n",
      "Processed 35-Meow\n",
      "Processed 36-Drawer_open_or_close\n",
      "Processed 37-Applause\n",
      "Processed 38-Acoustic_guitar\n",
      "Processed 39-Violin_or_fiddle\n",
      "Processed 40-Finger_snapping\n"
     ]
    }
   ],
   "source": [
    "for tag_num, tag_name in enumerate(tags):\n",
    "    train_files = helpers.find_paths_with_tags(csv_path=TRAIN_CSV, files_path=TRAIN_FILES, filters=[tag_name])\n",
    "    wav_data = helpers.load_wav_files(train_files, duration=1)\n",
    "    with open('data/raw/train-1-sec/wav-data-{}.pkl'.format(tag_name), 'wb') as f:\n",
    "        pickle.dump(wav_data, f)\n",
    "    print('Processed {}-{}'.format(tag_num, tag_name))"
   ]
  },
  {
   "cell_type": "markdown",
   "metadata": {},
   "source": [
    "## Process features"
   ]
  },
  {
   "cell_type": "code",
   "execution_count": 76,
   "metadata": {},
   "outputs": [],
   "source": [
    "def pad_audio(sound: np.ndarray, sample_rate=22050):\n",
    "    padded_sound = np.tile(sound, math.ceil(sample_rate / sound.shape[0]))\n",
    "    return padded_sound[:sample_rate]"
   ]
  },
  {
   "cell_type": "markdown",
   "metadata": {},
   "source": [
    "#### chroma_stft"
   ]
  },
  {
   "cell_type": "code",
   "execution_count": 69,
   "metadata": {},
   "outputs": [
    {
     "name": "stderr",
     "output_type": "stream",
     "text": [
      "c:\\users\\chang\\.virtualenvs\\kaggle-audio-tagging-pu_5w54x\\lib\\site-packages\\librosa\\core\\pitch.py:145: UserWarning: Trying to estimate tuning from empty frequency set.\n",
      "  warnings.warn('Trying to estimate tuning from empty frequency set.')\n"
     ]
    },
    {
     "name": "stdout",
     "output_type": "stream",
     "text": [
      "Wall time: 1min 6s\n"
     ]
    }
   ],
   "source": [
    "%%time\n",
    "feature_name = 'chroma_stft'\n",
    "for tag_num, tag_name in enumerate(tags):\n",
    "    with open('data/raw/train-1-sec/wav-data-{}.pkl'.format(tag_name), 'rb') as f:\n",
    "        wav_data = pickle.load(f)\n",
    "    wav_features = {sample.name: lf.chroma_stft(pad_audio(sample.wav[0])).flatten() for sample in wav_data}\n",
    "    df_features = (\n",
    "        pd.DataFrame.from_dict(wav_features, orient='index')\n",
    "        .reset_index().rename({'index': 'name'}, axis=1)\n",
    "    )\n",
    "    df_features.columns = ['name'] + [feature_name + '_' + str(column_name) for column_name in list(df_features.columns)[1:]]\n",
    "    df_features.to_pickle('data/interim/{}-1-sec/{}.pkl'.format(feature_name, tag_name))"
   ]
  },
  {
   "cell_type": "markdown",
   "metadata": {},
   "source": [
    "#### mfcc"
   ]
  },
  {
   "cell_type": "code",
   "execution_count": 45,
   "metadata": {},
   "outputs": [
    {
     "name": "stdout",
     "output_type": "stream",
     "text": [
      "Wall time: 1min 14s\n"
     ]
    }
   ],
   "source": [
    "%%time\n",
    "feature_name = 'mfcc'\n",
    "for tag_num, tag_name in enumerate(tags):\n",
    "    with open('data/raw/train-1-sec/wav-data-{}.pkl'.format(tag_name), 'rb') as f:\n",
    "        wav_data = pickle.load(f)\n",
    "    wav_features = {sample.name: lf.mfcc(pad_audio(sample.wav[0])).flatten() for sample in wav_data}\n",
    "    df_features = (\n",
    "        pd.DataFrame.from_dict(wav_features, orient='index')\n",
    "        .reset_index().rename({'index': 'name'}, axis=1)\n",
    "    )\n",
    "    df_features.columns = ['name'] + [feature_name + '_' + str(column_name) for column_name in list(df_features.columns)[1:]]\n",
    "    df_features.to_pickle('data/interim/{}-1-sec/{}.pkl'.format(feature_name, tag_name))"
   ]
  },
  {
   "cell_type": "code",
   "execution_count": 77,
   "metadata": {},
   "outputs": [],
   "source": [
    "a = pd.read_pickle('data/interim/{}-1-sec/{}.pkl'.format('chroma_stft', tags[7]))"
   ]
  },
  {
   "cell_type": "code",
   "execution_count": 78,
   "metadata": {},
   "outputs": [],
   "source": [
    "b = pd.read_pickle('data/interim/{}-1-sec/{}.pkl'.format('mfcc', tags[7]))"
   ]
  },
  {
   "cell_type": "code",
   "execution_count": 79,
   "metadata": {},
   "outputs": [],
   "source": [
    "c = a.merge(b, on=['name'])"
   ]
  },
  {
   "cell_type": "code",
   "execution_count": 80,
   "metadata": {},
   "outputs": [
    {
     "data": {
      "text/plain": [
       "(300, 1409)"
      ]
     },
     "execution_count": 80,
     "metadata": {},
     "output_type": "execute_result"
    }
   ],
   "source": [
    "c.shape"
   ]
  },
  {
   "cell_type": "markdown",
   "metadata": {},
   "source": [
    "#### Make a model for each feature - one more chroma_stft and one for mfcc"
   ]
  },
  {
   "cell_type": "code",
   "execution_count": 82,
   "metadata": {},
   "outputs": [],
   "source": [
    "from sklearn import linear_model"
   ]
  },
  {
   "cell_type": "markdown",
   "metadata": {},
   "source": [
    "Use the multiclass version"
   ]
  },
  {
   "cell_type": "code",
   "execution_count": 83,
   "metadata": {},
   "outputs": [],
   "source": [
    "model = linear_model.LogisticRegression()"
   ]
  },
  {
   "cell_type": "markdown",
   "metadata": {},
   "source": [
    "chroma_stft"
   ]
  },
  {
   "cell_type": "code",
   "execution_count": null,
   "metadata": {},
   "outputs": [],
   "source": []
  }
 ],
 "metadata": {
  "kernelspec": {
   "display_name": "Python 3",
   "language": "python",
   "name": "python3"
  },
  "language_info": {
   "codemirror_mode": {
    "name": "ipython",
    "version": 3
   },
   "file_extension": ".py",
   "mimetype": "text/x-python",
   "name": "python",
   "nbconvert_exporter": "python",
   "pygments_lexer": "ipython3",
   "version": "3.6.5"
  }
 },
 "nbformat": 4,
 "nbformat_minor": 2
}
