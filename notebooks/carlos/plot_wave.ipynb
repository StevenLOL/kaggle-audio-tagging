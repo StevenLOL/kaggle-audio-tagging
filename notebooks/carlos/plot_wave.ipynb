{
 "cells": [
  {
   "cell_type": "code",
   "execution_count": null,
   "metadata": {
    "collapsed": false
   },
   "outputs": [],
   "source": [
    "import matplotlib.pyplot as plot\n",
    "import numpy as np\n",
    "import wave\n",
    "import sys\n",
    "import os\n",
    "\n",
    "# Reference https://stackoverflow.com/questions/18625085/how-to-plot-a-wav-file\n",
    "\n",
    "# TODO this wave extraction can become a decorator"
   ]
  },
  {
   "cell_type": "markdown",
   "metadata": {},
   "source": [
    "Extract raw audio"
   ]
  },
  {
   "cell_type": "code",
   "execution_count": null,
   "metadata": {
    "collapsed": false
   },
   "outputs": [],
   "source": [
    "# https://docs.python.org/3.6/library/wave.html\n",
    "# a primer on the wav format - https://blogs.msdn.microsoft.com/dawate/2009/06/23/intro-to-audio-programming-part-2-demystifying-the-wav-format/\n",
    "wv = wave.open(f'../../data/external/audio_train/0a0a8d4c.wav','rb')\n",
    "# Reads and returns at most n frames of audio, as a bytes object.\n",
    "# -1 likely signals all the frames\n",
    "signal = wv.readframes(-1) # should return a 2 byte string"
   ]
  },
  {
   "cell_type": "markdown",
   "metadata": {},
   "source": [
    "Flatten audio to array"
   ]
  },
  {
   "cell_type": "code",
   "execution_count": null,
   "metadata": {
    "collapsed": false
   },
   "outputs": [],
   "source": [
    "# Interpret a buffer as a 1-dimensional array\n",
    "np.seterr('raise') # Set how floating-point errors are handled.\n",
    "signal = np.frombuffer(signal, 'int') #\n",
    "# NOTE setting \"data-type=int\" here is critical\n",
    "# to ensure array only contains integers. The\n",
    "# default data type is float which will cause the array\n",
    "# to include nan values, which will in turn cause an overflow err \n",
    "\n",
    "\n",
    "# Stereo? spf.getnchannels() == 2:\n",
    "print(f'Channels: {wv.getnchannels()}')"
   ]
  },
  {
   "cell_type": "markdown",
   "metadata": {},
   "source": [
    "Visualize"
   ]
  },
  {
   "cell_type": "code",
   "execution_count": null,
   "metadata": {
    "collapsed": false
   },
   "outputs": [],
   "source": [
    "# https://matplotlib.org/tutorials/introductory/usage.html#sphx-glr-tutorials-introductory-usage-py\n",
    "plot.figure(1) # creates a new figure with an id of 1\n",
    "plot.title('Wave')\n",
    "plot.plot(signal) # plots signal bytes as x,y?\n",
    "plot.show() # Displays a figure"
   ]
  }
 ],
 "metadata": {},
 "nbformat": 4,
 "nbformat_minor": 2
}
