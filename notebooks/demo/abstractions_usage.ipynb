{
 "cells": [
  {
   "cell_type": "code",
   "execution_count": 1,
   "metadata": {},
   "outputs": [],
   "source": [
    "import sys\n",
    "import os\n",
    "\n",
    "# NOTE: in order for a notebook to import a local module, \n",
    "# the module path must be explicitly add to the sys.path list\n",
    "module_path = os.path.abspath(os.path.join(os.pardir, os.pardir))\n",
    "if module_path not in sys.path:\n",
    "    sys.path.append(module_path)\n",
    "    \n",
    "# Now we can import helpers    \n",
    "from helpers import *"
   ]
  },
  {
   "cell_type": "code",
   "execution_count": 2,
   "metadata": {},
   "outputs": [
    {
     "name": "stdout",
     "output_type": "stream",
     "text": [
      "CPU times: user 946 µs, sys: 1.07 ms, total: 2.01 ms\n",
      "Wall time: 1.22 ms\n"
     ]
    }
   ],
   "source": [
    "%%time\n",
    "\n",
    "TRAIN_CSV = '../../data/external/train.csv'\n",
    "TRAIN_FILES = '../../data/external/audio_train'\n",
    "\n",
    "train_files = find_paths_with_tags(csv_path=TRAIN_CSV,\n",
    "                                   files_path=TRAIN_FILES,\n",
    "                                   filters=['Harmonica', 'Cello'],\n",
    "                                   limit=5)"
   ]
  },
  {
   "cell_type": "code",
   "execution_count": 6,
   "metadata": {},
   "outputs": [
    {
     "name": "stdout",
     "output_type": "stream",
     "text": [
      "00353774.wav...\n",
      "003b91e8.wav...\n",
      "0091fc7f.wav...\n",
      "011a2185.wav...\n",
      "01302128.wav...\n",
      "CPU times: user 17.2 ms, sys: 23.8 ms, total: 41 ms\n",
      "Wall time: 1.56 s\n"
     ]
    }
   ],
   "source": [
    "%%time\n",
    "train_wav_inputs = load_wav_files(train_files, duration=15)"
   ]
  },
  {
   "cell_type": "code",
   "execution_count": 7,
   "metadata": {},
   "outputs": [
    {
     "name": "stdout",
     "output_type": "stream",
     "text": [
      "Total inputs: 5\n",
      "Sample input: (array([-3.8226531e-03, -5.3708917e-03, -4.4372473e-03, ...,\n",
      "       -9.3773224e-06,  1.2247583e-05, -3.6367885e-05], dtype=float32), 22050)\n"
     ]
    }
   ],
   "source": [
    "print(f'Total inputs: {len(train_wav_inputs)}')\n",
    "\n",
    "sample = train_wav_inputs[0]\n",
    "print(f'Sample input: {sample.wav}')"
   ]
  },
  {
   "cell_type": "markdown",
   "metadata": {},
   "source": []
  },
  {
   "cell_type": "code",
   "execution_count": null,
   "metadata": {},
   "outputs": [],
   "source": []
  }
 ],
 "metadata": {
  "kernelspec": {
   "display_name": "Python 3",
   "language": "python",
   "name": "python3"
  },
  "language_info": {
   "codemirror_mode": {
    "name": "ipython",
    "version": 3
   },
   "file_extension": ".py",
   "mimetype": "text/x-python",
   "name": "python",
   "nbconvert_exporter": "python",
   "pygments_lexer": "ipython3",
   "version": "3.6.5"
  }
 },
 "nbformat": 4,
 "nbformat_minor": 2
}
