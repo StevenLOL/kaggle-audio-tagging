{
 "cells": [
  {
   "cell_type": "code",
   "execution_count": 1,
   "metadata": {},
   "outputs": [],
   "source": [
    "import sys\n",
    "import os\n",
    "\n",
    "module_path = os.path.abspath(os.path.join(os.pardir, os.pardir))\n",
    "if module_path not in sys.path:\n",
    "    sys.path.append(module_path)\n",
    "    \n",
    "import os\n",
    "from helpers import *"
   ]
  },
  {
   "cell_type": "code",
   "execution_count": 8,
   "metadata": {},
   "outputs": [
    {
     "name": "stdout",
     "output_type": "stream",
     "text": [
      "CPU times: user 7.02 ms, sys: 6.32 ms, total: 13.3 ms\n",
      "Wall time: 12.3 ms\n"
     ]
    }
   ],
   "source": [
    "%%time\n",
    "train_files = find_paths_with_tags(csv_path='../../data/external/train.csv',\n",
    "                                   files_path='../../data/external/audio_train',\n",
    "                                   filters=['Harmonica', 'Cello'],\n",
    "                                   limit=50)"
   ]
  },
  {
   "cell_type": "code",
   "execution_count": 9,
   "metadata": {},
   "outputs": [
    {
     "name": "stdout",
     "output_type": "stream",
     "text": [
      "00353774.wav...\n",
      "003b91e8.wav...\n",
      "0091fc7f.wav...\n",
      "011a2185.wav...\n",
      "01302128.wav...\n",
      "01811e48.wav...\n",
      "0184c390.wav...\n",
      "01a59c11.wav...\n",
      "01d4dafd.wav...\n",
      "01e723f5.wav...\n",
      "029632ad.wav...\n",
      "02dbfc78.wav...\n",
      "02eed858.wav...\n",
      "0338f669.wav...\n",
      "0482a372.wav...\n",
      "05561612.wav...\n",
      "0627acfa.wav...\n",
      "06a09fcd.wav...\n",
      "06b278f7.wav...\n",
      "06c1c5c3.wav...\n",
      "070f52cb.wav...\n",
      "0716126b.wav...\n",
      "071803a0.wav...\n",
      "0765b7d1.wav...\n",
      "07f16007.wav...\n",
      "07f6b1dc.wav...\n",
      "082321d2.wav...\n",
      "088d3f95.wav...\n",
      "0a98104d.wav...\n",
      "0b3636e4.wav...\n",
      "0b7aa40a.wav...\n",
      "0c364094.wav...\n",
      "10cf0a2c.wav...\n",
      "1137811b.wav...\n",
      "1176bda6.wav...\n",
      "11798f57.wav...\n",
      "118831d9.wav...\n",
      "125e6ccf.wav...\n",
      "1397ddc8.wav...\n",
      "147f4395.wav...\n",
      "14fd19da.wav...\n",
      "154df401.wav...\n",
      "161be325.wav...\n",
      "16ef3c60.wav...\n",
      "1732f391.wav...\n",
      "17429629.wav...\n",
      "17855456.wav...\n",
      "188acf6a.wav...\n",
      "18c3695b.wav...\n",
      "195f544d.wav...\n",
      "CPU times: user 84.6 ms, sys: 72.2 ms, total: 157 ms\n",
      "Wall time: 6.24 s\n"
     ]
    }
   ],
   "source": [
    "%%time\n",
    "train_wav_inputs = load_wav_files(train_files)"
   ]
  },
  {
   "cell_type": "code",
   "execution_count": 10,
   "metadata": {},
   "outputs": [
    {
     "name": "stdout",
     "output_type": "stream",
     "text": [
      "50\n",
      "{'00353774.wav': (array([-3.8226531e-03, -5.3708917e-03, -4.4372473e-03, ...,\n",
      "       -9.3773224e-06,  1.2247583e-05, -3.6367885e-05], dtype=float32), 22050)}\n"
     ]
    }
   ],
   "source": [
    "if train_wav_inputs:\n",
    "    print(len(train_wav_inputs))\n",
    "    sample = train_wav_inputs[0]\n",
    "    print(sample)"
   ]
  },
  {
   "cell_type": "code",
   "execution_count": null,
   "metadata": {},
   "outputs": [],
   "source": []
  },
  {
   "cell_type": "code",
   "execution_count": null,
   "metadata": {},
   "outputs": [],
   "source": []
  },
  {
   "cell_type": "code",
   "execution_count": null,
   "metadata": {},
   "outputs": [],
   "source": []
  },
  {
   "cell_type": "code",
   "execution_count": null,
   "metadata": {},
   "outputs": [],
   "source": []
  }
 ],
 "metadata": {
  "kernelspec": {
   "display_name": "Python 3",
   "language": "python",
   "name": "python3"
  },
  "language_info": {
   "codemirror_mode": {
    "name": "ipython",
    "version": 3
   },
   "file_extension": ".py",
   "mimetype": "text/x-python",
   "name": "python",
   "nbconvert_exporter": "python",
   "pygments_lexer": "ipython3",
   "version": "3.6.5"
  }
 },
 "nbformat": 4,
 "nbformat_minor": 2
}
